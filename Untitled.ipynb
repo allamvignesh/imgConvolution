{
 "cells": [
  {
   "cell_type": "code",
   "execution_count": 61,
   "id": "95c72884-3d3f-453c-a21a-51aed2f0902f",
   "metadata": {},
   "outputs": [],
   "source": [
    "def printMatrix(A):\n",
    "    for i in A:\n",
    "        for j in i:\n",
    "            print(j, end=\" \")\n",
    "        print()"
   ]
  },
  {
   "cell_type": "code",
   "execution_count": 70,
   "id": "3dd00eaf-8e3b-45f8-bdb0-03ffe87c940c",
   "metadata": {},
   "outputs": [],
   "source": []
  },
  {
   "cell_type": "code",
   "execution_count": 49,
   "id": "0eecc5aa-de8f-4a05-bf8d-8237eb076252",
   "metadata": {},
   "outputs": [],
   "source": [
    "A = [[44, 44, 38],\n",
    "     [41, 48, 48],\n",
    "     [39, 48, 54]]\n",
    "\n",
    "X = [[0, -1, 0],\n",
    "     [-1, 5, -1],\n",
    "     [0, -1, 0]]\n",
    "    "
   ]
  },
  {
   "cell_type": "code",
   "execution_count": 51,
   "id": "2628cf3b-5dda-485b-9898-494b392085ad",
   "metadata": {},
   "outputs": [],
   "source": [
    "A = [[0, 3, 8],\n",
    "    [4, 9, 0],\n",
    "    [0, 8, 4]]\n",
    "\n",
    "X = [[2 for i in range(3)] for i in range(3)]"
   ]
  },
  {
   "cell_type": "code",
   "execution_count": 74,
   "id": "582e44fc-0ff9-4e69-a584-401d129bc6ee",
   "metadata": {},
   "outputs": [
    {
     "name": "stdout",
     "output_type": "stream",
     "text": [
      "0 0 0 0 0 0 0 0 0 0 0 0 \n",
      "0 2 5 9 6 2 9 0 7 6 0 0 \n",
      "0 4 4 2 9 4 9 5 3 8 2 0 \n",
      "0 5 4 1 4 9 0 1 4 4 1 0 \n",
      "0 3 2 8 0 6 4 3 3 6 2 0 \n",
      "0 9 8 5 5 5 6 6 1 2 5 0 \n",
      "0 7 6 8 6 9 7 3 6 4 3 0 \n",
      "0 9 5 1 1 5 5 9 9 1 9 0 \n",
      "0 2 8 3 6 1 0 3 0 2 6 0 \n",
      "0 0 3 3 8 5 0 2 6 0 8 0 \n",
      "0 2 4 4 7 4 4 2 7 9 2 0 \n",
      "0 0 0 0 0 0 0 0 0 0 0 0 \n"
     ]
    }
   ],
   "source": [
    "A = [[2, 5, 9, 6, 2, 9, 0, 7, 6, 0],\n",
    "     [4, 4, 2, 9, 4, 9, 5, 3, 8, 2],\n",
    "     [5, 4, 1, 4, 9, 0, 1, 4, 4, 1],\n",
    "     [3, 2, 8, 0, 6, 4, 3, 3, 6, 2],\n",
    "     [9, 8, 5, 5, 5, 6, 6, 1, 2, 5],\n",
    "     [7, 6, 8, 6, 9, 7, 3, 6, 4, 3],\n",
    "     [9, 5, 1, 1, 5, 5, 9, 9, 1, 9],\n",
    "     [2, 8, 3, 6, 1, 0, 3, 0, 2, 6],\n",
    "     [0, 3, 3, 8, 5, 0, 2, 6, 0, 8],\n",
    "     [2, 4, 4, 7, 4, 4, 2, 7, 9, 2]]\n",
    "\n",
    "X = [[0, 0, 0], \n",
    "     [0, 1, 0], \n",
    "     [0, 0, 0]]\n",
    "\n",
    "def matrixConvulation(a, b):\n",
    "    c = 0\n",
    "    for i in range(-1, 2):\n",
    "        for j in range(-1, 2):\n",
    "            c += (X[1+i][1+j])*(A[a+i][b+j])\n",
    "    return c\n",
    "\n",
    "def padMatrix(A):\n",
    "    for i, j in enumerate(A):\n",
    "        A[i].insert(0, 0)\n",
    "        A[i].append(0)\n",
    "        \n",
    "    A.insert(0, [0 for i in range(len(A[0]))])\n",
    "    A.append([0 for i in range(len(A[0]))])\n",
    "\n",
    "padMatrix(A)\n",
    "printMatrix(A)"
   ]
  },
  {
   "cell_type": "code",
   "execution_count": 75,
   "id": "4dd0c0e7-ec0b-4493-b16d-1c671f241bd1",
   "metadata": {},
   "outputs": [
    {
     "name": "stdout",
     "output_type": "stream",
     "text": [
      "0 0 0 0 0 0 0 0 0 0 0 0 \n",
      "0 2 5 9 6 2 9 0 7 6 0 0 \n",
      "0 4 4 2 9 4 9 5 3 8 2 0 \n",
      "0 5 4 1 4 9 0 1 4 4 1 0 \n",
      "0 3 2 8 0 6 4 3 3 6 2 0 \n",
      "0 9 8 5 5 5 6 6 1 2 5 0 \n",
      "0 7 6 8 6 9 7 3 6 4 3 0 \n",
      "0 9 5 1 1 5 5 9 9 1 9 0 \n",
      "0 2 8 3 6 1 0 3 0 2 6 0 \n",
      "0 0 3 3 8 5 0 2 6 0 8 0 \n",
      "0 2 4 4 7 4 4 2 7 9 2 0 \n",
      "0 0 0 0 0 0 0 0 0 0 0 0 \n"
     ]
    }
   ],
   "source": [
    "output = [[0 for _ in range(len(A[0]))] for _ in range(len(A))]\n",
    "\n",
    "for i in range(len(A)):\n",
    "    for j in range(len(A[0])):\n",
    "        if i == 0 or i == len(A)-1 or j == 0 or j == len(A[0])-1:\n",
    "            output[i][j] = A[i][j]\n",
    "        else:\n",
    "            output[i][j] = matrixConvulation(i, j)\n",
    "\n",
    "printMatrix(output)"
   ]
  },
  {
   "cell_type": "code",
   "execution_count": null,
   "id": "12150782-32c1-41ec-af5d-6282d3e3553d",
   "metadata": {},
   "outputs": [],
   "source": []
  }
 ],
 "metadata": {
  "kernelspec": {
   "display_name": "Python 3 (ipykernel)",
   "language": "python",
   "name": "python3"
  },
  "language_info": {
   "codemirror_mode": {
    "name": "ipython",
    "version": 3
   },
   "file_extension": ".py",
   "mimetype": "text/x-python",
   "name": "python",
   "nbconvert_exporter": "python",
   "pygments_lexer": "ipython3",
   "version": "3.9.12"
  }
 },
 "nbformat": 4,
 "nbformat_minor": 5
}
